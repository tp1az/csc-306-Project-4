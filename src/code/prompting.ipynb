{
 "cells": [
  {
   "cell_type": "code",
   "execution_count": null,
   "metadata": {},
   "outputs": [],
   "source": [
    "import pandas as pd\n",
    "import openai  # Example, you can replace with other APIs\n",
    "import random\n",
    "from typing import List, Dict, Callable\n",
    "import numpy as np\n",
    "from sentence_transformers import SentenceTransformer\n",
    "from sklearn.metrics.pairwise import cosine_similarity"
   ]
  },
  {
   "cell_type": "markdown",
   "metadata": {},
   "source": [
    "### This notebook was mainly for testing ###\n",
    "Note that this gives some insight into the low level details of the workflow in evaluation.ipynb"
   ]
  },
  {
   "cell_type": "code",
   "execution_count": 2,
   "metadata": {},
   "outputs": [
    {
     "name": "stdout",
     "output_type": "stream",
     "text": [
      "Index(['Age', 'Attrition', 'BusinessTravel', 'DailyRate', 'Department',\n",
      "       'DistanceFromHome', 'Education', 'EducationField', 'EmployeeCount',\n",
      "       'EmployeeNumber', 'EnvironmentSatisfaction', 'Gender', 'HourlyRate',\n",
      "       'JobInvolvement', 'JobLevel', 'JobRole', 'JobSatisfaction',\n",
      "       'MaritalStatus', 'MonthlyIncome', 'MonthlyRate', 'NumCompaniesWorked',\n",
      "       'Over18', 'OverTime', 'PercentSalaryHike', 'PerformanceRating',\n",
      "       'RelationshipSatisfaction', 'StandardHours', 'StockOptionLevel',\n",
      "       'TotalWorkingYears', 'TrainingTimesLastYear', 'WorkLifeBalance',\n",
      "       'YearsAtCompany', 'YearsInCurrentRole', 'YearsSinceLastPromotion',\n",
      "       'YearsWithCurrManager'],\n",
      "      dtype='object')\n"
     ]
    }
   ],
   "source": [
    "df = pd.read_parquet(\"../data/066_IBM_HR/sample.parquet\")\n",
    "print(df.columns)"
   ]
  },
  {
   "cell_type": "code",
   "execution_count": 3,
   "metadata": {},
   "outputs": [
    {
     "name": "stdout",
     "output_type": "stream",
     "text": [
      "Data Overview:\n",
      "            Age Attrition BusinessTravel    DailyRate              Department  DistanceFromHome  Education EducationField  EmployeeCount  EmployeeNumber  EnvironmentSatisfaction Gender  HourlyRate  JobInvolvement   JobLevel                JobRole  JobSatisfaction MaritalStatus  MonthlyIncome   MonthlyRate  NumCompaniesWorked Over18 OverTime  PercentSalaryHike  PerformanceRating  RelationshipSatisfaction  StandardHours  StockOptionLevel  TotalWorkingYears  TrainingTimesLastYear  WorkLifeBalance  YearsAtCompany  YearsInCurrentRole  YearsSinceLastPromotion  YearsWithCurrManager\n",
      "count   20.0000        20             20    20.000000                      20         20.000000  20.000000             20           20.0       20.000000                20.000000     20   20.000000       20.000000  20.000000                     20        20.000000            20       20.00000     20.000000           20.000000     20       20          20.000000          20.000000                 20.000000           20.0         20.000000          20.000000              20.000000        20.000000       20.000000            20.00000                20.000000             20.000000\n",
      "unique      NaN         2              3          NaN                       2               NaN        NaN              3            NaN             NaN                      NaN      2         NaN             NaN        NaN                      6              NaN             3            NaN           NaN                 NaN      1        2                NaN                NaN                       NaN            NaN               NaN                NaN                    NaN              NaN             NaN                 NaN                      NaN                   NaN\n",
      "top         NaN        No  Travel_Rarely          NaN  Research & Development               NaN        NaN  Life Sciences            NaN             NaN                      NaN   Male         NaN             NaN        NaN  Laboratory Technician              NaN        Single            NaN           NaN                 NaN      Y       No                NaN                NaN                       NaN            NaN               NaN                NaN                    NaN              NaN             NaN                 NaN                      NaN                   NaN\n",
      "freq        NaN        17             15          NaN                      18               NaN        NaN             13            NaN             NaN                      NaN     14         NaN             NaN        NaN                     10              NaN             7            NaN           NaN                 NaN     20       11                NaN                NaN                       NaN            NaN               NaN                NaN                    NaN              NaN             NaN                 NaN                      NaN                   NaN\n",
      "mean    35.6500       NaN            NaN   872.800000                     NaN         12.050000   2.400000            NaN            1.0       13.250000                 2.750000    NaN   68.250000        2.950000   1.550000                    NaN         2.900000           NaN     4629.35000  13601.750000            2.550000    NaN      NaN          14.550000           3.200000                  2.750000           80.0          0.800000           8.600000               2.650000         2.600000        6.050000             3.85000                 1.700000              3.800000\n",
      "std      9.0744       NaN            NaN   483.662954                     NaN          9.864743   0.994723            NaN            0.0        7.158911                 1.251315    NaN   21.215374        0.759155   0.887041                    NaN         0.967906           NaN     3373.35214   5994.263002            2.928535    NaN      NaN           3.966637           0.410391                  0.966546            0.0          0.894427           6.426917               1.225819         0.598243        5.500957             3.03098                 2.364207              3.036619\n",
      "min     22.0000       NaN            NaN   103.000000                     NaN          1.000000   1.000000            NaN            1.0        1.000000                 1.000000    NaN   31.000000        2.000000   1.000000                    NaN         1.000000           NaN     2028.00000   2396.000000            0.000000    NaN      NaN          11.000000           3.000000                  1.000000           80.0          0.000000           1.000000               0.000000         1.000000        0.000000             0.00000                 0.000000              0.000000\n",
      "25%     29.7500       NaN            NaN   361.750000                     NaN          2.000000   2.000000            NaN            1.0        7.750000                 1.750000    NaN   49.750000        2.000000   1.000000                    NaN         2.000000           NaN     2687.25000   9669.750000            0.000000    NaN      NaN          11.750000           3.000000                  2.000000           80.0          0.000000           6.000000               2.000000         2.000000        2.000000             2.00000                 0.000000              1.500000\n",
      "50%     33.5000       NaN            NaN  1053.500000                     NaN         11.500000   2.000000            NaN            1.0       13.500000                 3.000000    NaN   72.500000        3.000000   1.000000                    NaN         3.000000           NaN     3183.00000  13141.000000            1.000000    NaN      NaN          13.000000           3.000000                  3.000000           80.0          1.000000           7.500000               3.000000         3.000000        5.500000             3.00000                 1.000000              3.000000\n",
      "75%     38.0000       NaN            NaN  1329.500000                     NaN         21.500000   3.000000            NaN            1.0       19.250000                 4.000000    NaN   86.000000        3.250000   2.000000                    NaN         4.000000           NaN     5156.75000  16590.750000            5.000000    NaN      NaN          16.250000           3.000000                  3.250000           80.0          1.000000          10.000000               3.000000         3.000000        8.250000             7.00000                 3.000000              7.000000\n",
      "max     59.0000       NaN            NaN  1392.000000                     NaN         27.000000   4.000000            NaN            1.0       24.000000                 4.000000    NaN   96.000000        4.000000   4.000000                    NaN         4.000000           NaN    15427.00000  24907.000000            9.000000    NaN      NaN          23.000000           4.000000                  4.000000           80.0          3.000000          31.000000               5.000000         3.000000       25.000000             9.00000                 8.000000              8.000000\n"
     ]
    }
   ],
   "source": [
    "summary = df.describe(include=\"all\").to_string()\n",
    "print(f\"Data Overview:\\n{summary}\")"
   ]
  },
  {
   "cell_type": "code",
   "execution_count": null,
   "metadata": {},
   "outputs": [],
   "source": [
    "ZERO_SHOT = [\n",
    "    \"What is the average MonthlyIncome of employees in the Sales department?\",\n",
    "    \"How many employees have a JobSatisfaction rating of 4?\",\n",
    "    \"What is the most common JobRole among employees with high PerformanceRating?\",\n",
    "    \"What percentage of employees have worked at more than 3 companies?\",\n",
    "    \"Is there a correlation between YearsAtCompany and Attrition?\",\n",
    "]"
   ]
  },
  {
   "cell_type": "code",
   "execution_count": 5,
   "metadata": {},
   "outputs": [],
   "source": [
    "FEW_SHOT = [\n",
    "    {\"question\": \"What is the average age of employees?\", \"answer\": \"The average age of employees is 35.65 years.\"},\n",
    "    {\"question\": \"How many employees work in the IT department?\", \"answer\": \"There are 50 employees in the IT department.\"},\n",
    "    {\"question\": \"What is the median MonthlyIncome?\", \"answer\": \"The median MonthlyIncome is $4629.\"},\n",
    "]"
   ]
  },
  {
   "cell_type": "markdown",
   "metadata": {},
   "source": [
    "Going to test different prompting methods:\n",
    "- single shot\n",
    "- few shot\n",
    "- rag (generate context from data, using few shot and single shot)"
   ]
  },
  {
   "cell_type": "code",
   "execution_count": 6,
   "metadata": {},
   "outputs": [],
   "source": [
    "def literal_context(df: pd.DataFrame) -> str:\n",
    "    \"\"\"Converts the entire DataFrame to a structured text format.\"\"\"\n",
    "    return f\"Dataset:\\n{df.to_string(index=False)}\""
   ]
  },
  {
   "cell_type": "code",
   "execution_count": 7,
   "metadata": {},
   "outputs": [],
   "source": [
    "def summary_context(df: pd.DataFrame) -> str:\n",
    "    summary = df.describe(include=\"all\").to_string()\n",
    "    return f\"Data Overview:\\n{summary}\""
   ]
  },
  {
   "cell_type": "code",
   "execution_count": null,
   "metadata": {},
   "outputs": [],
   "source": [
    "def similarity_context(query: str, table: pd.DataFrame, embedder, k: int = 3) -> str:\n",
    "    \"\"\"\n",
    "    Retrieves the top-k rows from a DataFrame that are most relevant to the query.\n",
    "    \n",
    "    Parameters:\n",
    "        query (str): The user's query or question.\n",
    "        table (pd.DataFrame): The tabular data containing information.\n",
    "        embedder: An embedding model with an `encode` method that converts text into a vector.\n",
    "        k (int): Number of top rows to retrieve (default is 3).\n",
    "    \n",
    "    Returns:\n",
    "        str: A context string containing the retrieved rows, formatted for use in an LLM prompt.\n",
    "    \"\"\"\n",
    "    # Convert each row of the table into a string (you can adjust the join separator as needed)\n",
    "    row_texts = table.astype(str).agg(' | '.join, axis=1).tolist()\n",
    "    # Compute the embedding for the query\n",
    "    query_embedding = embedder.encode(query)\n",
    "    row_embeddings = np.array([embedder.encode(text) for text in row_texts])\n",
    "    similarities = cosine_similarity([query_embedding], row_embeddings)[0]\n",
    "    # Identify the indices of the top-k most similar rows\n",
    "    top_indices = np.argsort(similarities)[::-1][:k]\n",
    "    retrieved_context = \"\\n\".join([row_texts[i] for i in top_indices])    \n",
    "    context = f\"Retrieved relevant data:\\n{retrieved_context}\\n\"\n",
    "    return context\n"
   ]
  },
  {
   "cell_type": "code",
   "execution_count": null,
   "metadata": {},
   "outputs": [],
   "source": [
    "def query_llm_zero_shot(model: str, question: str, context_method: Callable, data: pd.DataFrame) -> str:\n",
    "    context = context_method(data)\n",
    "    response = openai.ChatCompletion.create(\n",
    "        model = model,\n",
    "        messages = [\n",
    "            {\"role\": \"system\", \"content\": \"You are a data analyst answering questions about a company dataset.\"},\n",
    "            {\"role\": \"user\", \"content\": f\"Dataset Summary: {context}\\n\\nQuestion: {question}\"},\n",
    "        ],\n",
    "    )\n",
    "    return response[\"choices\"][0][\"message\"][\"content\"]"
   ]
  },
  {
   "cell_type": "code",
   "execution_count": null,
   "metadata": {},
   "outputs": [],
   "source": [
    "def query_llm_few_shot(model: str, question: str, context_method: Callable, data: pd.DataFrame) -> str:\n",
    "    \"\"\"Sends a query to the specified LLM with few-shot examples.\"\"\"\n",
    "    context = context_method(data)\n",
    "    messages = [\n",
    "        {\"role\": \"system\", \"content\": \"You are a data analyst answering questions about a company dataset.\"},\n",
    "    ]\n",
    "    \n",
    "    # Add few-shot examples to improve response quality\n",
    "    for example in FEW_SHOT:\n",
    "        messages.append({\"role\": \"user\", \"content\": example[\"question\"]})\n",
    "        messages.append({\"role\": \"assistant\", \"content\": example[\"answer\"]})\n",
    "    \n",
    "    # Add actual question and context\n",
    "    messages.append({\"role\": \"user\", \"content\": f\"Dataset Summary: {context}\\n\\nQuestion: {question}\"})\n",
    "    \n",
    "    response = openai.ChatCompletion.create(\n",
    "        model=model,\n",
    "        messages=messages,\n",
    "    )\n",
    "    return response[\"choices\"][0][\"message\"][\"content\"]"
   ]
  },
  {
   "cell_type": "code",
   "execution_count": null,
   "metadata": {},
   "outputs": [],
   "source": []
  }
 ],
 "metadata": {
  "kernelspec": {
   "display_name": "base",
   "language": "python",
   "name": "python3"
  },
  "language_info": {
   "codemirror_mode": {
    "name": "ipython",
    "version": 3
   },
   "file_extension": ".py",
   "mimetype": "text/x-python",
   "name": "python",
   "nbconvert_exporter": "python",
   "pygments_lexer": "ipython3",
   "version": "3.12.4"
  }
 },
 "nbformat": 4,
 "nbformat_minor": 2
}
