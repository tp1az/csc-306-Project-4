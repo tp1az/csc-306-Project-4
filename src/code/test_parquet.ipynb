{
 "cells": [
  {
   "cell_type": "code",
   "execution_count": null,
   "metadata": {},
   "outputs": [],
   "source": [
    "import pandas as pd\n",
    "import rich\n"
   ]
  },
  {
   "cell_type": "code",
   "execution_count": null,
   "metadata": {},
   "outputs": [],
   "source": [
    "import pandas as pd\n",
    "ibm_hr = pd.read_parquet(\"/Users/tonypiacentini/csc-306-Project-4/src/data/066_IBM_HR/sample.parquet\")\n",
    "tripadvisor = pd.read_parquet(\"/Users/tonypiacentini/csc-306-Project-4/src/data/067_TripAdvisor/sample.parquet\")\n",
    "worldBank = pd.read_parquet(\"/Users/tonypiacentini/csc-306-Project-4/src/data/068_WorldBank_Awards/sample.parquet\")\n",
    "taxonomy = pd.read_parquet(\"/Users/tonypiacentini/csc-306-Project-4/src/data/069_Taxonomy/sample.parquet\")\n",
    "openfoodfacts = pd.read_parquet(\"/Users/tonypiacentini/csc-306-Project-4/src/data/070_OpenFoodFacts/sample.parquet\")\n",
    "col = pd.read_parquet(\"/Users/tonypiacentini/csc-306-Project-4/src/data/071_COL/sample.parquet\")\n",
    "admissions = pd.read_parquet(\"/Users/tonypiacentini/csc-306-Project-4/src/data/072_Admissions/sample.parquet\")\n",
    "med_cost = pd.read_parquet(\"/Users/tonypiacentini/csc-306-Project-4/src/data/073_Med_Cost/sample.parquet\")\n",
    "lift = pd.read_parquet(\"/Users/tonypiacentini/csc-306-Project-4/src/data/074_Lift/sample.parquet\")\n",
    "mortality = pd.read_parquet(\"/Users/tonypiacentini/csc-306-Project-4/src/data/075_Mortality/sample.parquet\")\n",
    "nba = pd.read_parquet(\"/Users/tonypiacentini/csc-306-Project-4/src/data/076_NBA/sample.parquet\")\n",
    "gestational = pd.read_parquet(\"/Users/tonypiacentini/csc-306-Project-4/src/data/077_Gestational/sample.parquet\")\n",
    "fires = pd.read_parquet(\"/Users/tonypiacentini/csc-306-Project-4/src/data/078_Fires/sample.parquet\")\n",
    "coffee = pd.read_parquet(\"/Users/tonypiacentini/csc-306-Project-4/src/data/079_Coffee/sample.parquet\")\n",
    "books = pd.read_parquet(\"/Users/tonypiacentini/csc-306-Project-4/src/data/080_Books/sample.parquet\")\n"
   ]
  },
  {
   "cell_type": "code",
   "execution_count": null,
   "metadata": {},
   "outputs": [],
   "source": [
    "data = pd.DataFrame(columns = ['DataSet','DataRaw'])\n",
    "data.loc[len(data)] = ['066_IBM_HR', ibm_hr.to_csv(index=False)]\n",
    "data.loc[len(data)] = ['067_TripAdvisor', tripadvisor.to_csv(index=False)]\n",
    "data.loc[len(data)] = ['068_WorldBank_Awards', worldBank.to_csv(index=False)]\n",
    "data.loc[len(data)] = ['069_Taxonomy', taxonomy.to_csv(index=False)]\n",
    "data.loc[len(data)] = ['070_OpenFoodFacts', openfoodfacts.to_csv(index=False)]\n",
    "data.loc[len(data)] = ['071_COL', col.to_csv(index=False)]\n",
    "data.loc[len(data)] = ['072_Admissions', admissions.to_csv(index=False)]\n",
    "data.loc[len(data)] = ['073_Med_Cost', med_cost.to_csv(index=False)]\n",
    "data.loc[len(data)] = ['074_Lift', lift.to_csv(index=False)]\n",
    "data.loc[len(data)] = ['075_Mortality', mortality.to_csv(index=False)]\n",
    "data.loc[len(data)] = ['076_NBA', nba.to_csv(index=False)]\n",
    "data.loc[len(data)] = ['077_Gestational', gestational.to_csv(index=False)]\n",
    "data.loc[len(data)] = ['078_Fires', fires.to_csv(index=False)]\n",
    "data.loc[len(data)] = ['079_Coffee', coffee.to_csv(index=False)]\n",
    "data.loc[len(data)] = ['080_Books', books.to_csv(index=False)]"
   ]
  },
  {
   "cell_type": "code",
   "execution_count": null,
   "metadata": {},
   "outputs": [],
   "source": [
    "avgAge = (ibm_hr['Age'].sum() / ibm_hr['Age'].count())\n",
    "print(avgAge)"
   ]
  },
  {
   "cell_type": "code",
   "execution_count": null,
   "metadata": {},
   "outputs": [],
   "source": [
    "print(data['DataRaw'])"
   ]
  },
  {
   "cell_type": "code",
   "execution_count": null,
   "metadata": {},
   "outputs": [],
   "source": [
    "data = data.set_index('DataSet')\n"
   ]
  },
  {
   "cell_type": "code",
   "execution_count": null,
   "metadata": {},
   "outputs": [],
   "source": [
    "data.head()"
   ]
  },
  {
   "cell_type": "code",
   "execution_count": null,
   "metadata": {},
   "outputs": [],
   "source": [
    "import openai_test"
   ]
  },
  {
   "cell_type": "code",
   "execution_count": null,
   "metadata": {},
   "outputs": [],
   "source": [
    "for name, raw in data.itertuples():\n",
    "    print(name)\n"
   ]
  },
  {
   "cell_type": "code",
   "execution_count": null,
   "metadata": {},
   "outputs": [],
   "source": [
    "query = \"Is our average employee older than 35?\"\n",
    "dataframe = data.loc['066_IBM_HR']\n",
    "result_df1 = openai_test.response_test(query, dataframe['DataRaw'])"
   ]
  },
  {
   "cell_type": "code",
   "execution_count": null,
   "metadata": {},
   "outputs": [],
   "source": [
    "import ast\n",
    "data_dict = ast.literal_eval(result_df1)\n",
    "data_dict[\"question\"] = query\n",
    "data_dict[\"dataset_used\"] = \"066_IBM_HR\"\n",
    "print(data_dict)\n"
   ]
  },
  {
   "cell_type": "code",
   "execution_count": null,
   "metadata": {},
   "outputs": [],
   "source": [
    "test_qa = pd.read_csv(\"/Users/tonypiacentini/csc-306-Project-4/src/data/test_qa.csv\")  \n",
    "test_qa.tail()"
   ]
  },
  {
   "cell_type": "code",
   "execution_count": null,
   "metadata": {},
   "outputs": [],
   "source": [
    "test_qa = test_qa.set_index('dataset')"
   ]
  },
  {
   "cell_type": "code",
   "execution_count": null,
   "metadata": {},
   "outputs": [],
   "source": [
    "import json"
   ]
  },
  {
   "cell_type": "code",
   "execution_count": null,
   "metadata": {},
   "outputs": [],
   "source": [
    "final = pd.DataFrame(columns = ['question', 'answer', 'columns_used', \"explanation\", \"dataset_used\"])"
   ]
  },
  {
   "cell_type": "code",
   "execution_count": null,
   "metadata": {},
   "outputs": [],
   "source": [
    "runner = 0\n",
    "last_name = \"\"\n",
    "final = []\n",
    "for name, query in test_qa.itertuples():\n",
    "    \n",
    "    if(name != \"067_TripAdvisor\"):\n",
    "        if (runner % 10 == 0):\n",
    "            print(runner)\n",
    "        dataframe = data.loc[name]\n",
    "        result = openai_test.response_test(query, dataframe['DataRaw'])\n",
    "        next = []\n",
    "        q = []\n",
    "        q.append(\"question\")\n",
    "        q.append(query)\n",
    "        next.append(q)\n",
    "        n = []\n",
    "        n.append(\"dataset_used\")\n",
    "        n.append(name)\n",
    "        next.append(n)\n",
    "        next.append(result)\n",
    "        final.append(next)\n",
    "        runner += 1"
   ]
  },
  {
   "cell_type": "code",
   "execution_count": null,
   "metadata": {},
   "outputs": [],
   "source": [
    "print(final[0])"
   ]
  },
  {
   "cell_type": "code",
   "execution_count": null,
   "metadata": {},
   "outputs": [],
   "source": [
    "loaded = json.loads(final[0][2])\n",
    "list_of_lists = [[key, value] for key, value in loaded.items()]\n",
    "print(list_of_lists)"
   ]
  },
  {
   "cell_type": "code",
   "execution_count": null,
   "metadata": {},
   "outputs": [],
   "source": [
    "def fix_and_parse_json(json_str):\n",
    "    try:\n",
    "        return json.loads(json_str)  # Try parsing directly\n",
    "    except json.JSONDecodeError:\n",
    "        # Fix common issues:\n",
    "        json_str = json_str.rstrip(\")\") # Replace ) with }\n",
    "        print(f\"Fixed JSON: {json_str}\")\n",
    "        try:\n",
    "            return json.loads(json_str)  # Try parsing again\n",
    "        except json.JSONDecodeError as e:\n",
    "            print(f\"Still an error: {e}\")\n",
    "            return None  # Return None if still invalid\n"
   ]
  },
  {
   "cell_type": "code",
   "execution_count": null,
   "metadata": {},
   "outputs": [],
   "source": [
    "def fix_and_parse_json2(json_str):\n",
    "    try:\n",
    "        return json.loads(json_str)  # Try parsing directly\n",
    "    except json.JSONDecodeError:\n",
    "        # Fix common issues:\n",
    "        json_str = json_str[:-2] + \"}\" # Replace ) with }\n",
    "        print(f\"Fixed JSON: {json_str}\")\n",
    "        try:\n",
    "            return json.loads(json_str)  # Try parsing again\n",
    "        except json.JSONDecodeError as e:\n",
    "            print(f\"Still an error: {e}\")\n",
    "            return None  # Return None if still invalid"
   ]
  },
  {
   "cell_type": "code",
   "execution_count": null,
   "metadata": {},
   "outputs": [],
   "source": [
    "fixed = []\n",
    "next = []\n",
    "for i in range(len(final)):\n",
    "    next.append(final[i][0])\n",
    "    next.append(final[i][1])\n",
    "    loaded = fix_and_parse_json2(final[i][2])\n",
    "    list_of_lists = [[key, value] for key, value in loaded.items()]\n",
    "    for i in list_of_lists:\n",
    "        next.append(i)\n",
    "    next.append(list_of_lists)\n",
    "    fixed.append(next)\n",
    "\n"
   ]
  },
  {
   "cell_type": "code",
   "execution_count": null,
   "metadata": {},
   "outputs": [],
   "source": [
    "print(0)"
   ]
  },
  {
   "cell_type": "code",
   "execution_count": null,
   "metadata": {},
   "outputs": [],
   "source": [
    "print(fixed[0])"
   ]
  },
  {
   "cell_type": "code",
   "execution_count": null,
   "metadata": {},
   "outputs": [],
   "source": []
  }
 ],
 "metadata": {
  "kernelspec": {
   "display_name": "Python 3",
   "language": "python",
   "name": "python3"
  },
  "language_info": {
   "codemirror_mode": {
    "name": "ipython",
    "version": 3
   },
   "file_extension": ".py",
   "mimetype": "text/x-python",
   "name": "python",
   "nbconvert_exporter": "python",
   "pygments_lexer": "ipython3",
   "version": "3.12.6"
  }
 },
 "nbformat": 4,
 "nbformat_minor": 2
}
