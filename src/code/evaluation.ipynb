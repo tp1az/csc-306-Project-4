{
 "cells": [
  {
   "cell_type": "code",
   "execution_count": 34,
   "metadata": {},
   "outputs": [],
   "source": [
    "import pandas as pd\n",
    "import rich\n",
    "import nbimporter\n",
    "import openai\n",
    "from openai import OpenAI\n",
    "from typing import List, Dict, Callable\n",
    "from datasets import load_dataset"
 